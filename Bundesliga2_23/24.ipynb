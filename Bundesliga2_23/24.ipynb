{
 "cells": [
  {
   "cell_type": "code",
   "execution_count": 4,
   "metadata": {
    "collapsed": true,
    "ExecuteTime": {
     "end_time": "2024-07-07T09:30:56.171672Z",
     "start_time": "2024-07-07T09:30:56.003591Z"
    }
   },
   "outputs": [],
   "source": [
    "import pandas as pd"
   ]
  },
  {
   "cell_type": "code",
   "execution_count": 5,
   "outputs": [],
   "source": [
    "import requests\n",
    "from bs4 import BeautifulSoup\n",
    "\n",
    "headers = {\n",
    "    'accept': 'text/html,application/xhtml+xml,application/xml;q=0.9,image/avif,image/webp,image/apng,*/*;q=0.8,application/signed-exchange;v=b3;q=0.7',\n",
    "    'accept-language': 'en-US,en;q=0.9',\n",
    "    'cache-control': 'max-age=0',\n",
    "    'if-modified-since': 'Sun, 07 Jul 2024 05:48:09 GMT',\n",
    "    'priority': 'u=0, i',\n",
    "    'referer': 'https://fbref.com/en/comps/33/stats/2-Bundesliga-Stats',\n",
    "    'sec-ch-ua': '\"Not/A)Brand\";v=\"8\", \"Chromium\";v=\"126\", \"Google Chrome\";v=\"126\"',\n",
    "    'sec-ch-ua-mobile': '?0',\n",
    "    'sec-ch-ua-platform': '\"macOS\"',\n",
    "    'sec-fetch-dest': 'document',\n",
    "    'sec-fetch-mode': 'navigate',\n",
    "    'sec-fetch-site': 'same-origin',\n",
    "    'sec-fetch-user': '?1',\n",
    "    'upgrade-insecure-requests': '1',\n",
    "    'user-agent': 'Mozilla/5.0 (Macintosh; Intel Mac OS X 10_15_7) AppleWebKit/537.36 (KHTML, like Gecko) Chrome/126.0.0.0 Safari/537.36',\n",
    "}\n",
    "\n",
    "\n",
    "response = requests.get('https://fbref.com/en/comps/33/2-Bundesliga-Stats', headers=headers)\n",
    "\n"
   ],
   "metadata": {
    "collapsed": false,
    "ExecuteTime": {
     "end_time": "2024-07-07T09:31:05.892380Z",
     "start_time": "2024-07-07T09:31:00.129379Z"
    }
   }
  },
  {
   "cell_type": "code",
   "execution_count": 6,
   "outputs": [
    {
     "name": "stdout",
     "output_type": "stream",
     "text": [
      "    Rk           Squad  MP   W   D   L  GF  GA  GD  Pts  Pts/MP    xG   xGA  \\\n",
      "0    1       St. Pauli  34  20   9   5  62  36  26   69    2.03  51.2  36.1   \n",
      "1    2   Holstein Kiel  34  21   5   8  65  39  26   68    2.00  54.0  46.1   \n",
      "2    3      Düsseldorf  34  18   9   7  72  40  32   63    1.85  58.3  39.4   \n",
      "3    4    Hamburger SV  34  17   7  10  64  44  20   58    1.71  65.4  50.7   \n",
      "4    5      Karlsruher  34  15  10   9  68  48  20   55    1.62  58.0  50.2   \n",
      "5    6     Hannover 96  34  13  13   8  59  44  15   52    1.53  53.9  38.4   \n",
      "6    7    Paderborn 07  34  15   7  12  54  54   0   52    1.53  54.0  50.1   \n",
      "7    8  Greuther Fürth  34  14   8  12  50  49   1   50    1.47  45.3  50.1   \n",
      "8    9      Hertha BSC  34  13   9  12  69  59  10   48    1.41  57.2  48.6   \n",
      "9   10      Schalke 04  34  12   7  15  53  60  -7   43    1.26  47.5  52.2   \n",
      "10  11      Elversberg  34  12   7  15  49  63 -14   43    1.26  47.9  51.4   \n",
      "11  12        Nürnberg  34  11   7  16  43  64 -21   40    1.18  41.9  55.2   \n",
      "12  13  Kaiserslautern  34  11   6  17  59  64  -5   39    1.15  51.4  54.3   \n",
      "13  14       Magdeburg  34   9  11  14  46  54  -8   38    1.12  45.9  51.5   \n",
      "14  15    Braunschweig  34  11   5  18  37  53 -16   38    1.12  43.8  53.9   \n",
      "15  16           Wehen  34   8   8  18  36  50 -14   32    0.94  43.2  50.5   \n",
      "16  17   Hansa Rostock  34   9   4  21  30  57 -27   31    0.91  38.5  57.6   \n",
      "17  18       Osnabrück  34   6  10  18  31  69 -38   28    0.82  38.1  59.2   \n",
      "\n",
      "     xGD  xGD/90  Attendance                    Top Team Scorer  \\\n",
      "0   15.1    0.44       29424                 Marcel Hartel - 17   \n",
      "1    7.9    0.23       13870              Steven Skrzybski - 10   \n",
      "2   18.9    0.55       39672               Christos Tzolis - 22   \n",
      "3   14.7    0.43       55842                Robert Glatzel - 22   \n",
      "4    7.8    0.23       27077                Igor Matanovic - 14   \n",
      "5   15.5    0.46       37641               Cedric Teuchert - 11   \n",
      "6    3.9    0.12       13179               Adriano Grimaldi - 9   \n",
      "7   -4.9   -0.14       12462                  Armindo Sieb - 12   \n",
      "8    8.6    0.25       50969               Haris Tabakovic - 22   \n",
      "9   -4.6   -0.14       61500                 Kenan Karaman - 13   \n",
      "10  -3.5   -0.10        8913             Luca Schnellbacher - 8   \n",
      "11 -13.3   -0.39       34193                      Can Uzun - 16   \n",
      "12  -2.8   -0.08       43538                   Ragnar Ache - 16   \n",
      "13  -5.7   -0.17       25004               Jan Luca Schuler - 6   \n",
      "14 -10.1   -0.30       20692                 Rayan Philippe - 8   \n",
      "15  -7.3   -0.22        9451                  Ivan Prtajin - 13   \n",
      "16 -19.1   -0.56       26215  Kai Pröger, Júnior Brumado... - 4   \n",
      "17 -21.1   -0.62       14340               Erik Engelhardt - 10   \n",
      "\n",
      "                Goalkeeper                                        Notes  \n",
      "0            Nikola Vasilj                                     Promoted  \n",
      "1             Timon Weiner                                     Promoted  \n",
      "2      Florian Kastenmeier  → German 1/2 Relegation/Promotion Play-offs  \n",
      "3   Daniel Heuer Fernandes                                          NaN  \n",
      "4           Patrick Drewes                                          NaN  \n",
      "5        Ron-Robert Zieler                                          NaN  \n",
      "6            Pelle Boevink                                          NaN  \n",
      "7              Jonas Urbig                                          NaN  \n",
      "8              Tjark Ernst                                          NaN  \n",
      "9            Marius Müller                                          NaN  \n",
      "10         Nicolas Kristof                                          NaN  \n",
      "11              Carl Klaus                                          NaN  \n",
      "12            Julian Krahl                                          NaN  \n",
      "13         Dominik Reimann                                          NaN  \n",
      "14    Ron-Thorben Hoffmann                                          NaN  \n",
      "15        Florian Stritzel  → German 2/3 Relegation/Promotion Play-offs  \n",
      "16            Markus Kolke                                    Relegated  \n",
      "17            Philipp Kühn                                    Relegated  \n"
     ]
    }
   ],
   "source": [
    "html_content = response.text\n",
    "soup = BeautifulSoup(html_content, 'html.parser')\n",
    "# Find all tables on the page\n",
    "table_html = soup.find('table')\n",
    "table = pd.read_html(str(table_html))[0]\n",
    "print(table)"
   ],
   "metadata": {
    "collapsed": false,
    "ExecuteTime": {
     "end_time": "2024-07-07T09:31:11.564688Z",
     "start_time": "2024-07-07T09:31:07.317119Z"
    }
   }
  },
  {
   "cell_type": "code",
   "execution_count": 7,
   "outputs": [],
   "source": [
    "table=table.rename(columns={\"Squad\":\"Team\",\"Rk\":\"Standing\",\"Notes\":\"Outcome\",\"Attendance\":\"Avg_Home_Attendance\"})"
   ],
   "metadata": {
    "collapsed": false,
    "ExecuteTime": {
     "end_time": "2024-07-07T09:31:12.672561Z",
     "start_time": "2024-07-07T09:31:12.619209Z"
    }
   }
  },
  {
   "cell_type": "code",
   "execution_count": 8,
   "outputs": [],
   "source": [
    "table=table.drop(columns=\"Goalkeeper\")"
   ],
   "metadata": {
    "collapsed": false,
    "ExecuteTime": {
     "end_time": "2024-07-07T09:31:13.928133Z",
     "start_time": "2024-07-07T09:31:13.843620Z"
    }
   }
  },
  {
   "cell_type": "code",
   "execution_count": 9,
   "outputs": [
    {
     "name": "stdout",
     "output_type": "stream",
     "text": [
      "    Standing            Team  MP   W   D   L  GF  GA  GD  Pts  Pts/MP    xG  \\\n",
      "0          1       St. Pauli  34  20   9   5  62  36  26   69    2.03  51.2   \n",
      "1          2   Holstein Kiel  34  21   5   8  65  39  26   68    2.00  54.0   \n",
      "2          3      Düsseldorf  34  18   9   7  72  40  32   63    1.85  58.3   \n",
      "3          4    Hamburger SV  34  17   7  10  64  44  20   58    1.71  65.4   \n",
      "4          5      Karlsruher  34  15  10   9  68  48  20   55    1.62  58.0   \n",
      "5          6     Hannover 96  34  13  13   8  59  44  15   52    1.53  53.9   \n",
      "6          7    Paderborn 07  34  15   7  12  54  54   0   52    1.53  54.0   \n",
      "7          8  Greuther Fürth  34  14   8  12  50  49   1   50    1.47  45.3   \n",
      "8          9      Hertha BSC  34  13   9  12  69  59  10   48    1.41  57.2   \n",
      "9         10      Schalke 04  34  12   7  15  53  60  -7   43    1.26  47.5   \n",
      "10        11      Elversberg  34  12   7  15  49  63 -14   43    1.26  47.9   \n",
      "11        12        Nürnberg  34  11   7  16  43  64 -21   40    1.18  41.9   \n",
      "12        13  Kaiserslautern  34  11   6  17  59  64  -5   39    1.15  51.4   \n",
      "13        14       Magdeburg  34   9  11  14  46  54  -8   38    1.12  45.9   \n",
      "14        15    Braunschweig  34  11   5  18  37  53 -16   38    1.12  43.8   \n",
      "15        16           Wehen  34   8   8  18  36  50 -14   32    0.94  43.2   \n",
      "16        17   Hansa Rostock  34   9   4  21  30  57 -27   31    0.91  38.5   \n",
      "17        18       Osnabrück  34   6  10  18  31  69 -38   28    0.82  38.1   \n",
      "\n",
      "     xGA   xGD  xGD/90  Avg_Home_Attendance  \\\n",
      "0   36.1  15.1    0.44                29424   \n",
      "1   46.1   7.9    0.23                13870   \n",
      "2   39.4  18.9    0.55                39672   \n",
      "3   50.7  14.7    0.43                55842   \n",
      "4   50.2   7.8    0.23                27077   \n",
      "5   38.4  15.5    0.46                37641   \n",
      "6   50.1   3.9    0.12                13179   \n",
      "7   50.1  -4.9   -0.14                12462   \n",
      "8   48.6   8.6    0.25                50969   \n",
      "9   52.2  -4.6   -0.14                61500   \n",
      "10  51.4  -3.5   -0.10                 8913   \n",
      "11  55.2 -13.3   -0.39                34193   \n",
      "12  54.3  -2.8   -0.08                43538   \n",
      "13  51.5  -5.7   -0.17                25004   \n",
      "14  53.9 -10.1   -0.30                20692   \n",
      "15  50.5  -7.3   -0.22                 9451   \n",
      "16  57.6 -19.1   -0.56                26215   \n",
      "17  59.2 -21.1   -0.62                14340   \n",
      "\n",
      "                      Top Team Scorer  \\\n",
      "0                  Marcel Hartel - 17   \n",
      "1               Steven Skrzybski - 10   \n",
      "2                Christos Tzolis - 22   \n",
      "3                 Robert Glatzel - 22   \n",
      "4                 Igor Matanovic - 14   \n",
      "5                Cedric Teuchert - 11   \n",
      "6                Adriano Grimaldi - 9   \n",
      "7                   Armindo Sieb - 12   \n",
      "8                Haris Tabakovic - 22   \n",
      "9                  Kenan Karaman - 13   \n",
      "10             Luca Schnellbacher - 8   \n",
      "11                      Can Uzun - 16   \n",
      "12                   Ragnar Ache - 16   \n",
      "13               Jan Luca Schuler - 6   \n",
      "14                 Rayan Philippe - 8   \n",
      "15                  Ivan Prtajin - 13   \n",
      "16  Kai Pröger, Júnior Brumado... - 4   \n",
      "17               Erik Engelhardt - 10   \n",
      "\n",
      "                                        Outcome  \n",
      "0                                      Promoted  \n",
      "1                                      Promoted  \n",
      "2   → German 1/2 Relegation/Promotion Play-offs  \n",
      "3                                     no result  \n",
      "4                                     no result  \n",
      "5                                     no result  \n",
      "6                                     no result  \n",
      "7                                     no result  \n",
      "8                                     no result  \n",
      "9                                     no result  \n",
      "10                                    no result  \n",
      "11                                    no result  \n",
      "12                                    no result  \n",
      "13                                    no result  \n",
      "14                                    no result  \n",
      "15  → German 2/3 Relegation/Promotion Play-offs  \n",
      "16                                    Relegated  \n",
      "17                                    Relegated  \n"
     ]
    }
   ],
   "source": [
    "table.fillna('no result', inplace=True)\n",
    "print(table)"
   ],
   "metadata": {
    "collapsed": false,
    "ExecuteTime": {
     "end_time": "2024-07-07T09:31:15.593746Z",
     "start_time": "2024-07-07T09:31:15.520596Z"
    }
   }
  },
  {
   "cell_type": "code",
   "execution_count": null,
   "outputs": [],
   "source": [],
   "metadata": {
    "collapsed": false
   }
  }
 ],
 "metadata": {
  "kernelspec": {
   "display_name": "Python 3",
   "language": "python",
   "name": "python3"
  },
  "language_info": {
   "codemirror_mode": {
    "name": "ipython",
    "version": 2
   },
   "file_extension": ".py",
   "mimetype": "text/x-python",
   "name": "python",
   "nbconvert_exporter": "python",
   "pygments_lexer": "ipython2",
   "version": "2.7.6"
  }
 },
 "nbformat": 4,
 "nbformat_minor": 0
}
